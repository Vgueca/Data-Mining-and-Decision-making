{
 "cells": [
  {
   "cell_type": "code",
   "execution_count": 1,
   "metadata": {},
   "outputs": [],
   "source": [
    "import pandas as pd\n",
    "import matplotlib.pyplot as plt\n",
    "from mpl_toolkits.mplot3d import Axes3D\n",
    "from sklearn.preprocessing import StandardScaler\n",
    "from sklearn.decomposition import PCA\n",
    "from tslearn.clustering import TimeSeriesKMeans\n",
    "import math\n",
    "import copy\n",
    "import numpy as np\n",
    "from sklearn.metrics import accuracy_score"
   ]
  },
  {
   "cell_type": "code",
   "execution_count": 3,
   "metadata": {},
   "outputs": [
    {
     "name": "stdout",
     "output_type": "stream",
     "text": [
      "(1000,)\n",
      "85095\n",
      "(85095, 3)\n"
     ]
    }
   ],
   "source": [
    "def read_data(folder_path=\"Datasets_CSV/Domain1_csv/\"):\n",
    "    matrix_list = []\n",
    "    y_list = []\n",
    "    df_Y= pd.DataFrame(columns=['number'])\n",
    "    count=0\n",
    "    len_tab=[]\n",
    "    for subject in range(10):\n",
    "        for number in range(10):\n",
    "            for attemp in range(10):\n",
    "                \n",
    "                #we read the data from the specific .csv file\n",
    "                file_path = folder_path + 'Subject{}-{}-{}.csv'.format(subject+1, number, attemp+1) #To change if your files have different name\n",
    "                data_X = pd.read_csv(file_path)\n",
    "                \n",
    "                count+=len(data_X)\n",
    "                len_tab.append(len(data_X))\n",
    "                #Add the specific label to the labels' dataframe\n",
    "                df_Y = pd.concat([df_Y, pd.DataFrame({'number': [number]})], ignore_index=True) \n",
    "                \n",
    "\n",
    "                #Before the the dataframe converted to array to the matrix list we have to preprocess it:\n",
    "                \n",
    "                # Extract the x and y columns\n",
    "                x = data_X['<x>']\n",
    "                y = data_X['<y>']\n",
    "                z = data_X['<z>']\n",
    "                t = data_X['<t>']\n",
    "\n",
    "                # Standardize the data\n",
    "                scaler = StandardScaler()  #TODO: possible option to change ro RobustScaler?\n",
    "                x = scaler.fit_transform(x.values.reshape(-1, 1)).flatten()\n",
    "                y = scaler.fit_transform(y.values.reshape(-1, 1)).flatten()\n",
    "                z = scaler.fit_transform(z.values.reshape(-1, 1)).flatten()\n",
    "                t = scaler.fit_transform(t.values.reshape(-1, 1)).flatten()\n",
    "\n",
    "                # Apply PCA with just 2 components so we have just two coordinates (which actually represent X,Y)\n",
    "                \"\"\"pca = PCA(n_components=2)\n",
    "                data_X_standarized = pd.DataFrame({'x': x, 'y': y, 'z': z})\n",
    "                pca.fit(data_X_standarized)\n",
    "                data_X_transformed = pca.transform(data_X_standarized) #it returns an array.\"\"\"\n",
    "\n",
    "                # DECOMENTE TO NOT USE PCA\n",
    "                data_X_transformed = pd.DataFrame({'x': x, 'y': y, 'z': z}).to_numpy()\n",
    "                \n",
    "                \n",
    "                #add the preprocessed data to the matrix_list (actually the data is a matrix)\n",
    "                matrix_list.append(data_X_transformed)\n",
    "    avg=count/1000\n",
    "    #convert the List of matrix with the data into a np array\n",
    "    array_matrix = np.array(matrix_list,dtype=object)\n",
    "    #convert the dataframe of the Labels into a np array \n",
    "    labels = np.array(np.ravel(df_Y))\n",
    "    return array_matrix,labels,avg,len_tab\n",
    "\n",
    "\n",
    "arr,lab,avg,len_tab=read_data()\n",
    "matrix=[]\n",
    "print(arr.shape)\n",
    "print(sum(len_tab))\n",
    "for i in range(len(arr)):\n",
    "    for j in range(len_tab[i]):\n",
    "        matrix.append(arr[i][j])\n",
    "matrix=np.array(matrix,dtype=object)\n",
    "print(matrix.shape)"
   ]
  },
  {
   "cell_type": "code",
   "execution_count": 10,
   "metadata": {},
   "outputs": [
    {
     "data": {
      "text/plain": [
       "\"plt.scatter(transformed[:,0], transformed[:,1])\\n\\n# Add labels and a title\\nplt.xlabel('PCA_1')\\nplt.ylabel('PCA_2')\\nplt.title('Scatter plot of X and Y')\\n\\n# Show the plot\\nplt.show()\""
      ]
     },
     "execution_count": 10,
     "metadata": {},
     "output_type": "execute_result"
    }
   ],
   "source": [
    "#------------------ 2D plot ------------------------------\n",
    "\n",
    "# Create the scatter plot\n",
    "\"\"\"plt.scatter(x, y)\n",
    "\n",
    "# Add labels and a title\n",
    "plt.xlabel('X')\n",
    "plt.ylabel('Y')\n",
    "plt.title('Scatter plot of X and Y')\n",
    "\n",
    "# Show the plot\n",
    "plt.show()\"\"\"\n",
    "\n",
    "#--------------------------- 3D plot ---------------------------\n",
    "\n",
    "\"\"\"fig = plt.figure()\n",
    "ax = fig.add_subplot(111, projection='3d')\n",
    "ax.scatter(x, y, z)\n",
    "\n",
    "# Add labels and a title\n",
    "ax.set_xlabel('X')\n",
    "ax.set_ylabel('Y')\n",
    "ax.set_zlabel('Z')\n",
    "ax.set_title('3D Scatter plot of X, Y, and Z')\n",
    "\n",
    "# Show the plot\n",
    "plt.show()\"\"\"\n",
    "\n",
    "# -------------------- Plot 2D with the PCA --------------------------------------\n",
    "\n",
    "\"\"\"plt.scatter(transformed[:,0], transformed[:,1])\n",
    "\n",
    "# Add labels and a title\n",
    "plt.xlabel('PCA_1')\n",
    "plt.ylabel('PCA_2')\n",
    "plt.title('Scatter plot of X and Y')\n",
    "\n",
    "# Show the plot\n",
    "plt.show()\"\"\""
   ]
  },
  {
   "cell_type": "code",
   "execution_count": 11,
   "metadata": {},
   "outputs": [
    {
     "name": "stdout",
     "output_type": "stream",
     "text": [
      "(85095, 3)\n",
      "(85095, 3)\n"
     ]
    }
   ],
   "source": [
    "print(matrix.shape)\n",
    "cluster_count = 10\n",
    "\n",
    "X = matrix.reshape(-1, len(matrix[0]))\n",
    "print(X.shape)\n",
    "km = TimeSeriesKMeans(n_clusters=cluster_count, metric=\"dtw\")\n",
    "string = km.fit_predict(X)\n",
    "np.save('my_array.npy', string)\n"
   ]
  },
  {
   "cell_type": "code",
   "execution_count": 4,
   "metadata": {},
   "outputs": [
    {
     "name": "stdout",
     "output_type": "stream",
     "text": [
      "(1000,)\n"
     ]
    }
   ],
   "source": [
    "string=np.load('my_array.npy')\n",
    "clust_list=[]\n",
    "i,j,k=0,0,0\n",
    "while(i<len(string)):\n",
    "    row=[]\n",
    "    j=0\n",
    "    while(j<len_tab[k]):\n",
    "        row.append(string[i])\n",
    "        i+=1\n",
    "        j+=1\n",
    "    clust_list.append(row)\n",
    "    k+=1\n",
    "clust_list=np.array(clust_list,dtype=object)\n",
    "print(clust_list.shape)\n"
   ]
  },
  {
   "cell_type": "code",
   "execution_count": 5,
   "metadata": {},
   "outputs": [],
   "source": [
    "def edit_distance(a1, a2):\n",
    "    m, n = len(a1), len(a2)\n",
    "    # Initialize dynamic programming table\n",
    "    dp = [[0] * (n + 1) for _ in range(m + 1)]\n",
    "    # Initialize base cases\n",
    "    for i in range(m + 1):\n",
    "        dp[i][0] = i\n",
    "    for j in range(n + 1):\n",
    "        dp[0][j] = j\n",
    "    # Fill in the table\n",
    "    for i in range(1, m + 1):\n",
    "        for j in range(1, n + 1):\n",
    "            if a1[i - 1] == a2[j - 1]:\n",
    "                cost = 0\n",
    "            else:\n",
    "                cost = 1\n",
    "            dp[i][j] = min(dp[i - 1][j] + 1,   # deletion\n",
    "                           dp[i][j - 1] + 1,   # insertion\n",
    "                           dp[i - 1][j - 1] + cost)  # substitution\n",
    "    # Return minimum edit distance\n",
    "    return dp[m][n]"
   ]
  },
  {
   "cell_type": "code",
   "execution_count": 6,
   "metadata": {},
   "outputs": [
    {
     "name": "stdout",
     "output_type": "stream",
     "text": [
      "accuracy of the subject  0  :  0.78\n",
      "accuracy of the subject  1  :  0.11\n",
      "accuracy of the subject  2  :  0.91\n",
      "accuracy of the subject  3  :  0.3\n",
      "accuracy of the subject  4  :  0.66\n",
      "accuracy of the subject  5  :  0.34\n",
      "accuracy of the subject  6  :  0.59\n",
      "accuracy of the subject  7  :  0.84\n",
      "accuracy of the subject  8  :  0.69\n",
      "accuracy of the subject  9  :  0.77\n",
      "0.5989999999999999\n"
     ]
    }
   ],
   "source": [
    "accuracy=[]\n",
    "# TEST ON ONE SUBJECT\n",
    "for subject in range(10):\n",
    "    train_set=copy.deepcopy(clust_list)\n",
    "    test_set=[]\n",
    "    test_lab=lab[0:100]\n",
    "    remove_idx=[]\n",
    "    # WE REMOVE THE TEST SUBJECT FROM TRAINING DATA\n",
    "    for idx in range(100):\n",
    "        test_set.append(train_set[idx+subject*100])\n",
    "        remove_idx.append(idx+subject*100)\n",
    "    train_set=np.delete(train_set,remove_idx, axis=0)\n",
    "\n",
    "    # COMPUTE EDIT DISTANCE BETWEEN TEST AND TRAIN\n",
    "    matrice=np.empty((len(test_set),10,int(len(train_set)/10)))\n",
    "    for i in range(len(test_set)):\n",
    "        count=0\n",
    "        mult=0\n",
    "        index=0\n",
    "        for j in range(len(train_set)):\n",
    "            if index>=10:\n",
    "                index=0\n",
    "            if count>=100:\n",
    "                mult+=1\n",
    "                count=0\n",
    "            matrice[i][lab[j]][index+mult*10]=edit_distance(train_set[j],test_set[i])\n",
    "            count+=1\n",
    "            index+=1\n",
    "    \n",
    "    # Make the prediction \n",
    "    pred=[]\n",
    "    for i in range(len(test_set)):\n",
    "        avg=[]\n",
    "        for j in range(10):\n",
    "            avg.append(np.average(matrice[i][j]))\n",
    "        pred.append(np.argmin(avg))\n",
    "\n",
    "    print(\"accuracy of the subject \",subject, \" : \",accuracy_score(test_lab.tolist(),pred))\n",
    "    accuracy.append(accuracy_score(test_lab.tolist(),pred))\n",
    "print(np.mean(accuracy))\n"
   ]
  },
  {
   "cell_type": "code",
   "execution_count": 108,
   "metadata": {},
   "outputs": [
    {
     "name": "stdout",
     "output_type": "stream",
     "text": [
      "70\n",
      "30\n"
     ]
    }
   ],
   "source": [
    "train_set=copy.deepcopy(clust_list)\n",
    "test_set=[]\n",
    "test_lab=[]\n",
    "remove_idx=[]\n",
    "for i in range(10):\n",
    "    removed_row = train_set[0+i*10:3+i*10]\n",
    "    test_set.append(removed_row[0])\n",
    "    test_set.append(removed_row[1])\n",
    "    test_set.append(removed_row[2])\n",
    "    test_lab.append(lab[0+i*10])\n",
    "    test_lab.append(lab[1+i*10])\n",
    "    test_lab.append(lab[2+i*10])\n",
    "    remove_idx.append(0+i*10)\n",
    "    remove_idx.append(1+i*10)\n",
    "    remove_idx.append(2+i*10)\n",
    "\n",
    "train_set = np.delete(train_set,remove_idx, axis=0)\n",
    "print(len(train_set))\n",
    "print(len(test_set))\n"
   ]
  },
  {
   "cell_type": "code",
   "execution_count": 109,
   "metadata": {},
   "outputs": [
    {
     "name": "stdout",
     "output_type": "stream",
     "text": [
      "(30, 10, 7)\n"
     ]
    }
   ],
   "source": [
    "matrice=np.empty((len(test_set),10,int(len(train_set)/10)))\n",
    "for i in range(len(test_set)):\n",
    "    count=0\n",
    "    testlab=0\n",
    "    for j in range(len(train_set)):\n",
    "        if count>=len(train_set)/10:\n",
    "            count=0\n",
    "            test_lab+=1\n",
    "        matrice[i][test_lab][count]=edit_distance(train_set[j],test_set[i])\n",
    "        count+=1\n",
    "\n",
    "print(matrice.shape)"
   ]
  },
  {
   "cell_type": "code",
   "execution_count": 110,
   "metadata": {},
   "outputs": [
    {
     "name": "stdout",
     "output_type": "stream",
     "text": [
      "[0, 8, 5, 1, 1, 1, 2, 2, 2, 3, 3, 3, 4, 4, 4, 5, 5, 5, 6, 6, 6, 7, 7, 7, 8, 8, 8, 9, 9, 9]\n"
     ]
    }
   ],
   "source": [
    "pred=[]\n",
    "for i in range(len(test_set)):\n",
    "    avg=[]\n",
    "    for j in range(10):\n",
    "        avg.append(np.average(matrice[i][j]))\n",
    "    pred.append(np.argmin(avg))\n",
    "print(pred)"
   ]
  },
  {
   "cell_type": "code",
   "execution_count": 111,
   "metadata": {},
   "outputs": [
    {
     "data": {
      "text/plain": [
       "0.9333333333333333"
      ]
     },
     "execution_count": 111,
     "metadata": {},
     "output_type": "execute_result"
    }
   ],
   "source": [
    "accuracy_score(test_lab, pred)"
   ]
  }
 ],
 "metadata": {
  "kernelspec": {
   "display_name": "Python 3",
   "language": "python",
   "name": "python3"
  },
  "language_info": {
   "codemirror_mode": {
    "name": "ipython",
    "version": 3
   },
   "file_extension": ".py",
   "mimetype": "text/x-python",
   "name": "python",
   "nbconvert_exporter": "python",
   "pygments_lexer": "ipython3",
   "version": "3.10.11"
  },
  "orig_nbformat": 4
 },
 "nbformat": 4,
 "nbformat_minor": 2
}
